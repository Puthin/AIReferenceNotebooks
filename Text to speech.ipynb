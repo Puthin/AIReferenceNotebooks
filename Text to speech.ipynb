{
 "cells": [
  {
   "cell_type": "code",
   "execution_count": 3,
   "id": "c351cbc0-fbd2-435e-96a1-b884e203594e",
   "metadata": {},
   "outputs": [
    {
     "name": "stdout",
     "output_type": "stream",
     "text": [
      "Listening... Speak now!\n",
      "Processing speech...\n",
      "You said: play John\n",
      "You just said: play John\n"
     ]
    }
   ],
   "source": [
    "import speech_recognition as sr\n",
    "from pydub import AudioSegment\n",
    "import simpleaudio as sa\n",
    "\n",
    "def listener():\n",
    "    recognizer = sr.Recognizer()\n",
    "    \n",
    "    with sr.Microphone() as source:\n",
    "        print(\"Listening... Speak now!\")\n",
    "        recognizer.adjust_for_ambient_noise(source)  # Adjust for background noise\n",
    "        audio = recognizer.listen(source)\n",
    "    \n",
    "    try:\n",
    "        print(\"Processing speech...\")\n",
    "        text = recognizer.recognize_google(audio)  # Use Google Speech-to-Text\n",
    "        print(f\"You said: {text}\")\n",
    "        return text\n",
    "    except sr.UnknownValueError:\n",
    "        print(\"Sorry, I could not understand what you said.\")\n",
    "        return None\n",
    "    except sr.RequestError:\n",
    "        print(\"Could not request results, please check your internet connection.\")\n",
    "        return None\n",
    "\n",
    "# Example usage:\n",
    "text = listener()  # Listen for speech\n",
    "if text:\n",
    "    print(f\"You just said: {text}\") "
   ]
  },
  {
   "cell_type": "code",
   "execution_count": null,
   "id": "ee7795b7-32df-40fa-af2e-d0f2909fa9df",
   "metadata": {},
   "outputs": [],
   "source": []
  }
 ],
 "metadata": {
  "kernelspec": {
   "display_name": "Python 3 (ipykernel)",
   "language": "python",
   "name": "python3"
  },
  "language_info": {
   "codemirror_mode": {
    "name": "ipython",
    "version": 3
   },
   "file_extension": ".py",
   "mimetype": "text/x-python",
   "name": "python",
   "nbconvert_exporter": "python",
   "pygments_lexer": "ipython3",
   "version": "3.12.7"
  }
 },
 "nbformat": 4,
 "nbformat_minor": 5
}
