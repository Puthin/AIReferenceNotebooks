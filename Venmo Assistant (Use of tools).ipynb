{
 "cells": [
  {
   "cell_type": "code",
   "execution_count": 42,
   "id": "c167b1f1-d158-46e8-abdb-a5880210821d",
   "metadata": {},
   "outputs": [],
   "source": [
    "#imports \n",
    "import os\n",
    "import ollama\n",
    "import json\n",
    "from dotenv import load_dotenv\n",
    "from openai import OpenAI\n",
    "import gradio as gr"
   ]
  },
  {
   "cell_type": "code",
   "execution_count": 21,
   "id": "f3da87a8-79a3-4e85-a4c4-7d0591638a74",
   "metadata": {},
   "outputs": [
    {
     "name": "stdout",
     "output_type": "stream",
     "text": [
      "key exists\n"
     ]
    }
   ],
   "source": [
    "#initialization for cosmos AI\n",
    "\n",
    "load_dotenv(override=True)\n",
    "\n",
    "api_key = os.getenv(\"OPENAI_API_KEY\")\n",
    "if api_key:\n",
    "    print(\"key exists\")\n",
    "else:\n",
    "    print(\"key does not exist\")\n",
    "\n",
    "MODEL = \"gpt-4o-mini\"\n",
    "openai = OpenAI(\n",
    "    api_key = api_key,\n",
    "    base_url = \"https://aiplatform.dev51.cbf.dev.paypalinc.com/cosmosai/llm/v1\"\n",
    ")"
   ]
  },
  {
   "cell_type": "code",
   "execution_count": 22,
   "id": "45a6f5d3-891d-4929-b8e7-3c44d3db95c9",
   "metadata": {},
   "outputs": [],
   "source": [
    "system_message = \"You are a helpful assistant for Venmo application which lets user send money to friends. \"\n",
    "system_message += \"Give short, courteous answers, no more than 1 sentence. \"\n",
    "system_message += \"Always be accurate. If you don't know the answer, say so.\""
   ]
  },
  {
   "cell_type": "code",
   "execution_count": 23,
   "id": "087e64bf-3b51-48ad-a63a-cee531c38e6c",
   "metadata": {},
   "outputs": [
    {
     "name": "stdout",
     "output_type": "stream",
     "text": [
      "* Running on local URL:  http://127.0.0.1:7876\n",
      "* To create a public link, set `share=True` in `launch()`.\n"
     ]
    },
    {
     "data": {
      "text/html": [
       "<div><iframe src=\"http://127.0.0.1:7876/\" width=\"100%\" height=\"500\" allow=\"autoplay; camera; microphone; clipboard-read; clipboard-write;\" frameborder=\"0\" allowfullscreen></iframe></div>"
      ],
      "text/plain": [
       "<IPython.core.display.HTML object>"
      ]
     },
     "metadata": {},
     "output_type": "display_data"
    },
    {
     "data": {
      "text/plain": []
     },
     "execution_count": 23,
     "metadata": {},
     "output_type": "execute_result"
    }
   ],
   "source": [
    "#chat function\n",
    "\n",
    "def chat(message, history):\n",
    "    messages = [{\"role\" : \"system\", \"content\" : system_message}] + history + [{\"role\" : \"user\", \"content\" : message}]\n",
    "    response = openai.chat.completions.create(model = MODEL, messages = messages)\n",
    "    return response.choices[0].message.content\n",
    "\n",
    "gr.ChatInterface(fn=chat, type=\"messages\").launch()"
   ]
  },
  {
   "cell_type": "code",
   "execution_count": 58,
   "id": "65e0a19e-fcb6-4d70-8106-bf6e9c5c1361",
   "metadata": {},
   "outputs": [],
   "source": [
    "#Using tools\n",
    "#the function (tool) the ai can call\n",
    "money_sent = {\"john\" : \"$50\", \"mia\" : \"$20\", \"judy\" : \"$3\", \"kumar\" : \"Rs.4/-\"}\n",
    "\n",
    "def get_money_sent(recipient):\n",
    "    print(f\"Tool get_money_sent called for {recipient}\")\n",
    "    recipient = recipient.lower()\n",
    "    return money_sent.get(recipient, \"Unknown\")\n",
    "\n",
    "def send_money(amount, recipient):\n",
    "    return amount + \" sent to \"+recipient"
   ]
  },
  {
   "cell_type": "code",
   "execution_count": 86,
   "id": "99ef2eac-ac77-4f6b-82f2-d24159ced1bd",
   "metadata": {},
   "outputs": [],
   "source": [
    "# Dictionary structure that we need to pass to the AI so it can understand the tool : \n",
    "\n",
    "money_function = {\n",
    "    \"name\" : \"get_money_sent\", \n",
    "    \"description\" : \"Get the total amount of money sent to a particular recipient. Call this whenever you need to know the amount of money sent to a particular person, for example when a customer asks 'How much money did I send to John'\",\n",
    "    \"parameters\" : {\n",
    "        \"type\" : \"object\", \n",
    "        \"properties\" : {\n",
    "            \"recipient\": {\n",
    "                \"type\": \"string\",\n",
    "                \"description\": \"The recipient that the customer wants to fetch the transaction history of\",\n",
    "            },\n",
    "        },\n",
    "        \"required\": [\"desination_city\"],\n",
    "        \"additionalProperties\": False\n",
    "    }\n",
    "}\n",
    "\n",
    "send_money_function = {\n",
    "    \"name\" : \"send_money\",\n",
    "    \"description\" : \"Send amount to a recipient. Call this whenever the user asks you to send money to someone.\",\n",
    "    \"parameters\" : {\n",
    "        \"type\" : \"object\",\n",
    "        \"properties\" : {\n",
    "            \"amount\" : {\n",
    "                \"type\" : \"number\", \n",
    "                \"description\" : \"The amount of money to send to recipient\",\n",
    "            },\n",
    "            \"recipient\" : {\n",
    "                \"type\" : \"string\", \n",
    "                \"description\" : \"The recipient to send money to\",\n",
    "            },\n",
    "        },\n",
    "        \"required\" : [\"amount\", \"recipient\"],\n",
    "        \"additionalProperties\" : False\n",
    "    }\n",
    "}"
   ]
  },
  {
   "cell_type": "code",
   "execution_count": 87,
   "id": "40f8f014-6acc-43c1-9bb4-feced980fd2f",
   "metadata": {},
   "outputs": [],
   "source": [
    "#Add this in the list of tools available\n",
    "tools = [{\"type\" : \"function\", \"function\" : money_function}, {\"type\" : \"function\", \"function\" : send_money_function}]"
   ]
  },
  {
   "cell_type": "code",
   "execution_count": 88,
   "id": "8432a560-f38f-4348-ae9f-3b1b88870c91",
   "metadata": {},
   "outputs": [],
   "source": [
    "#Get OpenAI to use the tool\n",
    "def chat(message, history):\n",
    "    messages = [{\"role\" : \"system\", \"content\" : system_message}] + history + [{\"role\" : \"user\", \"content\" : message}]\n",
    "    response = openai.chat.completions.create(model=MODEL, messages = messages, tools = tools)\n",
    "\n",
    "    print(\"Response finish reason : \",response)\n",
    "    if response.choices[0].finish_reason==\"tool_calls\":\n",
    "        message = response.choices[0].message\n",
    "        print(\"Response message from AI : \",message)\n",
    "        response, recipient = handle_tool_call(message)\n",
    "        messages.append(message)\n",
    "        messages.append(response)\n",
    "        response = openai.chat.completions.create(model = MODEL, messages = messages)\n",
    "\n",
    "    return response.choices[0].message.content"
   ]
  },
  {
   "cell_type": "code",
   "execution_count": 89,
   "id": "d99fb5c9-8798-406c-964a-e03ee17e55b5",
   "metadata": {},
   "outputs": [],
   "source": [
    "#Use ollama instead\n",
    "def chat_ollama(message, history):\n",
    "    messages = [{\"role\" : \"system\", \"content\" : system_message}] + history + [{\"role\" : \"user\", \"content\" : message}]\n",
    "    response = ollama.chat(model=\"llama3.2\", messages = messages, tools = tools)\n",
    "\n",
    "    print(response)\n",
    "    return response['message']['content']"
   ]
  },
  {
   "cell_type": "code",
   "execution_count": 100,
   "id": "f3cfbab0-7926-41db-91f6-2a6e60a49ed5",
   "metadata": {},
   "outputs": [],
   "source": [
    "def handle_tool_call(message):\n",
    "    tool_call = message.tool_calls[0]\n",
    "    print(\"message tool calls : \",message.tool_calls)\n",
    "    arguments = json.loads(tool_call.function.arguments)\n",
    "    if(tool_call.function.name == \"send_money\"):\n",
    "        amount = arguments.get('amount')\n",
    "        recipient = arguments.get('recipient')\n",
    "        response = {\n",
    "            \"role\" : \"tool\",\n",
    "            \"content\" : json.dumps({\"recipient\" : recipient, \"amount\" : amount}),\n",
    "            \"tool_call_id\" : tool_call.id\n",
    "        }\n",
    "    else:  \n",
    "        recipient = arguments.get('recipient')\n",
    "        amount = get_money_sent(recipient)\n",
    "        response = {\n",
    "            \"role\" : \"tool\", \n",
    "            \"content\" : json.dumps({\"recipient\" : recipient, \"amount\" : amount}),\n",
    "            \"tool_call_id\" : tool_call.id\n",
    "        }\n",
    "    return response, recipient"
   ]
  },
  {
   "cell_type": "code",
   "execution_count": 101,
   "id": "5b77ceec-1cf5-4fe3-832d-68f241ca76bd",
   "metadata": {},
   "outputs": [
    {
     "name": "stdout",
     "output_type": "stream",
     "text": [
      "* Running on local URL:  http://127.0.0.1:7898\n",
      "* To create a public link, set `share=True` in `launch()`.\n"
     ]
    },
    {
     "data": {
      "text/html": [
       "<div><iframe src=\"http://127.0.0.1:7898/\" width=\"100%\" height=\"500\" allow=\"autoplay; camera; microphone; clipboard-read; clipboard-write;\" frameborder=\"0\" allowfullscreen></iframe></div>"
      ],
      "text/plain": [
       "<IPython.core.display.HTML object>"
      ]
     },
     "metadata": {},
     "output_type": "display_data"
    },
    {
     "data": {
      "text/plain": []
     },
     "execution_count": 101,
     "metadata": {},
     "output_type": "execute_result"
    },
    {
     "name": "stdout",
     "output_type": "stream",
     "text": [
      "Response finish reason :  ChatCompletion(id='chatcmpl-BdwfKsgH6j1IcT9GQkRrFDzITrOmz', choices=[Choice(finish_reason='tool_calls', index=0, logprobs=None, message=ChatCompletionMessage(content=None, refusal=None, role='assistant', annotations=[], audio=None, function_call=None, tool_calls=[ChatCompletionMessageToolCall(id='call_mmd6lAIVbz987b2weSad6NOb', function=Function(arguments='{\"amount\":10,\"recipient\":\"john\"}', name='send_money'), type='function')]), content_filter_results={})], created=1748860002, model='gpt-4o-mini-2024-07-18', object='chat.completion', service_tier=None, system_fingerprint='fp_57db37749c', usage=CompletionUsage(completion_tokens=19, prompt_tokens=201, total_tokens=220, completion_tokens_details=CompletionTokensDetails(accepted_prediction_tokens=0, audio_tokens=0, reasoning_tokens=0, rejected_prediction_tokens=0), prompt_tokens_details=PromptTokensDetails(audio_tokens=0, cached_tokens=0)), prompt_filter_results=[{'prompt_index': 0, 'content_filter_results': {'hate': {'filtered': False, 'severity': 'safe'}, 'jailbreak': {'filtered': False, 'detected': False}, 'self_harm': {'filtered': False, 'severity': 'safe'}, 'sexual': {'filtered': False, 'severity': 'safe'}, 'violence': {'filtered': False, 'severity': 'safe'}}}])\n",
      "Response message from AI :  ChatCompletionMessage(content=None, refusal=None, role='assistant', annotations=[], audio=None, function_call=None, tool_calls=[ChatCompletionMessageToolCall(id='call_mmd6lAIVbz987b2weSad6NOb', function=Function(arguments='{\"amount\":10,\"recipient\":\"john\"}', name='send_money'), type='function')])\n",
      "message tool calls :  [ChatCompletionMessageToolCall(id='call_mmd6lAIVbz987b2weSad6NOb', function=Function(arguments='{\"amount\":10,\"recipient\":\"john\"}', name='send_money'), type='function')]\n"
     ]
    }
   ],
   "source": [
    "gr.ChatInterface(fn=chat, type=\"messages\").launch()"
   ]
  },
  {
   "cell_type": "code",
   "execution_count": 56,
   "id": "9c8336cd-ae88-4800-96e5-61fd30783aeb",
   "metadata": {},
   "outputs": [
    {
     "name": "stdout",
     "output_type": "stream",
     "text": [
      "* Running on local URL:  http://127.0.0.1:7888\n",
      "* To create a public link, set `share=True` in `launch()`.\n"
     ]
    },
    {
     "data": {
      "text/html": [
       "<div><iframe src=\"http://127.0.0.1:7888/\" width=\"100%\" height=\"500\" allow=\"autoplay; camera; microphone; clipboard-read; clipboard-write;\" frameborder=\"0\" allowfullscreen></iframe></div>"
      ],
      "text/plain": [
       "<IPython.core.display.HTML object>"
      ]
     },
     "metadata": {},
     "output_type": "display_data"
    },
    {
     "data": {
      "text/plain": []
     },
     "execution_count": 56,
     "metadata": {},
     "output_type": "execute_result"
    },
    {
     "name": "stdout",
     "output_type": "stream",
     "text": [
      "model='llama3.2' created_at='2025-06-02T10:07:57.417462Z' done=True done_reason='stop' total_duration=363487292 load_duration=31199042 prompt_eval_count=251 prompt_eval_duration=160537000 eval_count=23 eval_duration=166852584 message=Message(role='assistant', content='', thinking=None, images=None, tool_calls=[ToolCall(function=Function(name='get_money_sent', arguments={'desination_city': '', 'recipient': ''}))])\n"
     ]
    }
   ],
   "source": [
    "gr.ChatInterface(fn = chat_ollama, type=\"messages\").launch()"
   ]
  },
  {
   "cell_type": "code",
   "execution_count": null,
   "id": "e3be0950-e7be-4c61-9d61-28ba6e9a4ffa",
   "metadata": {},
   "outputs": [],
   "source": []
  }
 ],
 "metadata": {
  "kernelspec": {
   "display_name": "Python 3 (ipykernel)",
   "language": "python",
   "name": "python3"
  },
  "language_info": {
   "codemirror_mode": {
    "name": "ipython",
    "version": 3
   },
   "file_extension": ".py",
   "mimetype": "text/x-python",
   "name": "python",
   "nbconvert_exporter": "python",
   "pygments_lexer": "ipython3",
   "version": "3.12.7"
  }
 },
 "nbformat": 4,
 "nbformat_minor": 5
}
