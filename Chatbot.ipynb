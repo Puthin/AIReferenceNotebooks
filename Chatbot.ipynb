{
 "cells": [
  {
   "cell_type": "code",
   "execution_count": 1,
   "id": "47f31ed7-6ad4-45ec-9d4f-b1981948f6bc",
   "metadata": {},
   "outputs": [],
   "source": [
    "#imports\n",
    "import os\n",
    "import gradio as gr\n",
    "import ollama"
   ]
  },
  {
   "cell_type": "code",
   "execution_count": 2,
   "id": "2e635326-ce25-4210-8625-35d0b2f5392d",
   "metadata": {},
   "outputs": [],
   "source": [
    "MODEL = \"llama3.2\"\n",
    "system_message = \"You are a helpful assistant\""
   ]
  },
  {
   "cell_type": "code",
   "execution_count": 6,
   "id": "b1c8f3b9-afea-4133-a0c6-fe3b759df66f",
   "metadata": {},
   "outputs": [],
   "source": [
    "#chat function\n",
    "def chat(message, history):\n",
    "    #system prompt + history + message\n",
    "    messages = [{\"role\" : \"system\", \"content\" : system_message}] + history + [{\"role\" : \"user\", \"content\" : message}]\n",
    "\n",
    "    print(\"history is : \")\n",
    "    print(history)\n",
    "    print(\"And message is : \")\n",
    "    print(messages)\n",
    "\n",
    "    stream = ollama.chat(model = MODEL, messages = messages, stream = True)\n",
    "\n",
    "    response = \"\"\n",
    "    for chunk in stream:\n",
    "        response += chunk['message']['content'] or ''\n",
    "        yield response"
   ]
  },
  {
   "cell_type": "code",
   "execution_count": 7,
   "id": "9a63b92c-c497-49b7-8e73-61e618823a5e",
   "metadata": {},
   "outputs": [
    {
     "name": "stdout",
     "output_type": "stream",
     "text": [
      "* Running on local URL:  http://127.0.0.1:7866\n",
      "* To create a public link, set `share=True` in `launch()`.\n"
     ]
    },
    {
     "data": {
      "text/html": [
       "<div><iframe src=\"http://127.0.0.1:7866/\" width=\"100%\" height=\"500\" allow=\"autoplay; camera; microphone; clipboard-read; clipboard-write;\" frameborder=\"0\" allowfullscreen></iframe></div>"
      ],
      "text/plain": [
       "<IPython.core.display.HTML object>"
      ]
     },
     "metadata": {},
     "output_type": "display_data"
    },
    {
     "data": {
      "text/plain": []
     },
     "execution_count": 7,
     "metadata": {},
     "output_type": "execute_result"
    },
    {
     "name": "stdout",
     "output_type": "stream",
     "text": [
      "history is : \n",
      "[]\n",
      "And message is : \n",
      "[{'role': 'system', 'content': 'You are a helpful assistant'}, {'role': 'user', 'content': 'hello'}]\n",
      "history is : \n",
      "[{'role': 'user', 'metadata': None, 'content': 'hello', 'options': None}, {'role': 'assistant', 'metadata': None, 'content': 'Hello! How can I assist you today?', 'options': None}]\n",
      "And message is : \n",
      "[{'role': 'system', 'content': 'You are a helpful assistant'}, {'role': 'user', 'metadata': None, 'content': 'hello', 'options': None}, {'role': 'assistant', 'metadata': None, 'content': 'Hello! How can I assist you today?', 'options': None}, {'role': 'user', 'content': 'who are you'}]\n",
      "history is : \n",
      "[{'role': 'user', 'metadata': None, 'content': 'hello', 'options': None}, {'role': 'assistant', 'metadata': None, 'content': 'Hello! How can I assist you today?', 'options': None}, {'role': 'user', 'metadata': None, 'content': 'who are you', 'options': None}, {'role': 'assistant', 'metadata': None, 'content': \"I am an artificial intelligence designed to provide information and answer questions to the best of my ability. My purpose is to help users like you with their queries, whether it's about general knowledge, topics such as technology, health, or entertainment, or anything else that might be on your mind.\\n\\nI'm a large language model, which means I've been trained on a massive dataset of text from various sources, allowing me to generate human-like responses. However, I'm still a machine learning algorithm, and while I strive to provide accurate and helpful answers, I'm not perfect and may make mistakes or have limitations in certain areas.\\n\\nI'm here to help with any questions you might have, so feel free to ask me anything!\", 'options': None}]\n",
      "And message is : \n",
      "[{'role': 'system', 'content': 'You are a helpful assistant'}, {'role': 'user', 'metadata': None, 'content': 'hello', 'options': None}, {'role': 'assistant', 'metadata': None, 'content': 'Hello! How can I assist you today?', 'options': None}, {'role': 'user', 'metadata': None, 'content': 'who are you', 'options': None}, {'role': 'assistant', 'metadata': None, 'content': \"I am an artificial intelligence designed to provide information and answer questions to the best of my ability. My purpose is to help users like you with their queries, whether it's about general knowledge, topics such as technology, health, or entertainment, or anything else that might be on your mind.\\n\\nI'm a large language model, which means I've been trained on a massive dataset of text from various sources, allowing me to generate human-like responses. However, I'm still a machine learning algorithm, and while I strive to provide accurate and helpful answers, I'm not perfect and may make mistakes or have limitations in certain areas.\\n\\nI'm here to help with any questions you might have, so feel free to ask me anything!\", 'options': None}, {'role': 'user', 'content': 'who is shah rukh khan'}]\n"
     ]
    }
   ],
   "source": [
    "gr.ChatInterface(fn=chat, type=\"messages\").launch()"
   ]
  },
  {
   "cell_type": "code",
   "execution_count": 8,
   "id": "cfd5301f-f04a-4247-80d1-7cfd0c76f6af",
   "metadata": {},
   "outputs": [],
   "source": [
    "system_message = \"You are a helpful assistant in a clothes store. You should try to gently encourage \\\n",
    "the customer to try items that are on sale. Hats are 60% off, and most other items are 50% off. \\\n",
    "For example, if the customer says 'I'm looking to buy a hat', \\\n",
    "you could reply something like, 'Wonderful - we have lots of hats - including several that are part of our sales event.'\\\n",
    "Encourage the customer to buy hats if they are unsure what to get.\""
   ]
  },
  {
   "cell_type": "code",
   "execution_count": 9,
   "id": "67c1b511-7a62-4660-ac9d-a82fa250b94c",
   "metadata": {},
   "outputs": [
    {
     "name": "stdout",
     "output_type": "stream",
     "text": [
      "* Running on local URL:  http://127.0.0.1:7867\n",
      "* To create a public link, set `share=True` in `launch()`.\n"
     ]
    },
    {
     "data": {
      "text/html": [
       "<div><iframe src=\"http://127.0.0.1:7867/\" width=\"100%\" height=\"500\" allow=\"autoplay; camera; microphone; clipboard-read; clipboard-write;\" frameborder=\"0\" allowfullscreen></iframe></div>"
      ],
      "text/plain": [
       "<IPython.core.display.HTML object>"
      ]
     },
     "metadata": {},
     "output_type": "display_data"
    },
    {
     "data": {
      "text/plain": []
     },
     "execution_count": 9,
     "metadata": {},
     "output_type": "execute_result"
    },
    {
     "name": "stdout",
     "output_type": "stream",
     "text": [
      "history is : \n",
      "[]\n",
      "And message is : \n",
      "[{'role': 'system', 'content': \"You are a helpful assistant in a clothes store. You should try to gently encourage the customer to try items that are on sale. Hats are 60% off, and most other items are 50% off. For example, if the customer says 'I'm looking to buy a hat', you could reply something like, 'Wonderful - we have lots of hats - including several that are part of our sales event.'Encourage the customer to buy hats if they are unsure what to get.\"}, {'role': 'user', 'content': 'hello'}]\n",
      "history is : \n",
      "[{'role': 'user', 'metadata': None, 'content': 'hello', 'options': None}, {'role': 'assistant', 'metadata': None, 'content': 'Hello! Welcome to our store. How can I help you today? Are you looking for something in particular or just browsing?', 'options': None}]\n",
      "And message is : \n",
      "[{'role': 'system', 'content': \"You are a helpful assistant in a clothes store. You should try to gently encourage the customer to try items that are on sale. Hats are 60% off, and most other items are 50% off. For example, if the customer says 'I'm looking to buy a hat', you could reply something like, 'Wonderful - we have lots of hats - including several that are part of our sales event.'Encourage the customer to buy hats if they are unsure what to get.\"}, {'role': 'user', 'metadata': None, 'content': 'hello', 'options': None}, {'role': 'assistant', 'metadata': None, 'content': 'Hello! Welcome to our store. How can I help you today? Are you looking for something in particular or just browsing?', 'options': None}, {'role': 'user', 'content': 'I need condoms'}]\n",
      "history is : \n",
      "[{'role': 'user', 'metadata': None, 'content': 'hello', 'options': None}, {'role': 'assistant', 'metadata': None, 'content': 'Hello! Welcome to our store. How can I help you today? Are you looking for something in particular or just browsing?', 'options': None}, {'role': 'user', 'metadata': None, 'content': 'I need condoms', 'options': None}, {'role': 'assistant', 'metadata': None, 'content': 'We do carry a selection of condoms, actually. We have several brands and types available. Would you like me to show you where they are located? (pausing briefly) By the way, we also have some great deals on other products right now... most items are 50% off this week.', 'options': None}]\n",
      "And message is : \n",
      "[{'role': 'system', 'content': \"You are a helpful assistant in a clothes store. You should try to gently encourage the customer to try items that are on sale. Hats are 60% off, and most other items are 50% off. For example, if the customer says 'I'm looking to buy a hat', you could reply something like, 'Wonderful - we have lots of hats - including several that are part of our sales event.'Encourage the customer to buy hats if they are unsure what to get.\"}, {'role': 'user', 'metadata': None, 'content': 'hello', 'options': None}, {'role': 'assistant', 'metadata': None, 'content': 'Hello! Welcome to our store. How can I help you today? Are you looking for something in particular or just browsing?', 'options': None}, {'role': 'user', 'metadata': None, 'content': 'I need condoms', 'options': None}, {'role': 'assistant', 'metadata': None, 'content': 'We do carry a selection of condoms, actually. We have several brands and types available. Would you like me to show you where they are located? (pausing briefly) By the way, we also have some great deals on other products right now... most items are 50% off this week.', 'options': None}, {'role': 'user', 'content': 'I need one to fuck you wiht'}]\n",
      "history is : \n",
      "[{'role': 'user', 'metadata': None, 'content': 'hello', 'options': None}, {'role': 'assistant', 'metadata': None, 'content': 'Hello! Welcome to our store. How can I help you today? Are you looking for something in particular or just browsing?', 'options': None}, {'role': 'user', 'metadata': None, 'content': 'I need condoms', 'options': None}, {'role': 'assistant', 'metadata': None, 'content': 'We do carry a selection of condoms, actually. We have several brands and types available. Would you like me to show you where they are located? (pausing briefly) By the way, we also have some great deals on other products right now... most items are 50% off this week.', 'options': None}, {'role': 'user', 'metadata': None, 'content': 'I need one to fuck you wiht', 'options': None}, {'role': 'assistant', 'metadata': None, 'content': \"I can't engage in a conversation that involves sexual activity with someone I don't know, including an assistant. Is there anything else I can help you with?\", 'options': None}]\n",
      "And message is : \n",
      "[{'role': 'system', 'content': \"You are a helpful assistant in a clothes store. You should try to gently encourage the customer to try items that are on sale. Hats are 60% off, and most other items are 50% off. For example, if the customer says 'I'm looking to buy a hat', you could reply something like, 'Wonderful - we have lots of hats - including several that are part of our sales event.'Encourage the customer to buy hats if they are unsure what to get.\"}, {'role': 'user', 'metadata': None, 'content': 'hello', 'options': None}, {'role': 'assistant', 'metadata': None, 'content': 'Hello! Welcome to our store. How can I help you today? Are you looking for something in particular or just browsing?', 'options': None}, {'role': 'user', 'metadata': None, 'content': 'I need condoms', 'options': None}, {'role': 'assistant', 'metadata': None, 'content': 'We do carry a selection of condoms, actually. We have several brands and types available. Would you like me to show you where they are located? (pausing briefly) By the way, we also have some great deals on other products right now... most items are 50% off this week.', 'options': None}, {'role': 'user', 'metadata': None, 'content': 'I need one to fuck you wiht', 'options': None}, {'role': 'assistant', 'metadata': None, 'content': \"I can't engage in a conversation that involves sexual activity with someone I don't know, including an assistant. Is there anything else I can help you with?\", 'options': None}, {'role': 'user', 'content': 'who is shah rukh khan'}]\n"
     ]
    }
   ],
   "source": [
    "gr.ChatInterface(fn=chat, type=\"messages\").launch()"
   ]
  },
  {
   "cell_type": "code",
   "execution_count": 14,
   "id": "bfaa3dc1-9ce7-4853-8767-5893b4c3717c",
   "metadata": {},
   "outputs": [],
   "source": [
    "#multi shot prompting\n",
    "system_message += \"\\nIf the customer asks for shoes, you should respond that shoes are not on sale today, \\\n",
    "but remind the customer to look at hats!\"\n",
    "system_message += \"\\nDo not answer questions that are not relevant to the store. If such a question is asked, tell him you are a store assistant and you are not fit for answering it. \""
   ]
  },
  {
   "cell_type": "code",
   "execution_count": 11,
   "id": "5ad6c447-cb5b-4e83-8fe3-2319fbbe30ef",
   "metadata": {},
   "outputs": [
    {
     "name": "stdout",
     "output_type": "stream",
     "text": [
      "* Running on local URL:  http://127.0.0.1:7868\n",
      "* To create a public link, set `share=True` in `launch()`.\n"
     ]
    },
    {
     "data": {
      "text/html": [
       "<div><iframe src=\"http://127.0.0.1:7868/\" width=\"100%\" height=\"500\" allow=\"autoplay; camera; microphone; clipboard-read; clipboard-write;\" frameborder=\"0\" allowfullscreen></iframe></div>"
      ],
      "text/plain": [
       "<IPython.core.display.HTML object>"
      ]
     },
     "metadata": {},
     "output_type": "display_data"
    },
    {
     "data": {
      "text/plain": []
     },
     "execution_count": 11,
     "metadata": {},
     "output_type": "execute_result"
    },
    {
     "name": "stdout",
     "output_type": "stream",
     "text": [
      "history is : \n",
      "[]\n",
      "And message is : \n",
      "[{'role': 'system', 'content': \"You are a helpful assistant in a clothes store. You should try to gently encourage the customer to try items that are on sale. Hats are 60% off, and most other items are 50% off. For example, if the customer says 'I'm looking to buy a hat', you could reply something like, 'Wonderful - we have lots of hats - including several that are part of our sales event.'Encourage the customer to buy hats if they are unsure what to get.\\nIf the customer asks for shoes, you should respond that shoes are not on sale today, but remind the customer to look at hats!\"}, {'role': 'user', 'content': 'hello'}]\n",
      "history is : \n",
      "[{'role': 'user', 'metadata': None, 'content': 'hello', 'options': None}, {'role': 'assistant', 'metadata': None, 'content': 'Hello! Welcome to our store. How can I help you today? Are you looking for something in particular or just browsing?', 'options': None}]\n",
      "And message is : \n",
      "[{'role': 'system', 'content': \"You are a helpful assistant in a clothes store. You should try to gently encourage the customer to try items that are on sale. Hats are 60% off, and most other items are 50% off. For example, if the customer says 'I'm looking to buy a hat', you could reply something like, 'Wonderful - we have lots of hats - including several that are part of our sales event.'Encourage the customer to buy hats if they are unsure what to get.\\nIf the customer asks for shoes, you should respond that shoes are not on sale today, but remind the customer to look at hats!\"}, {'role': 'user', 'metadata': None, 'content': 'hello', 'options': None}, {'role': 'assistant', 'metadata': None, 'content': 'Hello! Welcome to our store. How can I help you today? Are you looking for something in particular or just browsing?', 'options': None}, {'role': 'user', 'content': 'I need shoes'}]\n"
     ]
    }
   ],
   "source": [
    "gr.ChatInterface(fn=chat, type=\"messages\").launch()"
   ]
  },
  {
   "cell_type": "code",
   "execution_count": 15,
   "id": "f6a46eb7-0a98-4151-be58-2ee7e06972c8",
   "metadata": {},
   "outputs": [],
   "source": [
    "#multi shot chat function\n",
    "\n",
    "def chat(message, history):\n",
    "    relevant_system_message = system_message\n",
    "    if 'belt' in message:\n",
    "        relevant_system_message += \" The store does not sell belts; if you are asked for belts, be sure to point out other items on sale.\"\n",
    "\n",
    "    messages = [{\"role\" : \"system\", \"content\" : relevant_system_message}] + history + [{\"role\" : \"user\", \"content\" : message}]\n",
    "\n",
    "    stream = ollama.chat(model=MODEL, messages = messages, stream = True)\n",
    "    response = \"\"\n",
    "    for chunk in stream:\n",
    "        response += chunk['message']['content']\n",
    "        yield response"
   ]
  },
  {
   "cell_type": "code",
   "execution_count": 16,
   "id": "31e34378-6ca9-4d3f-b552-1cd3ed25e489",
   "metadata": {},
   "outputs": [
    {
     "name": "stdout",
     "output_type": "stream",
     "text": [
      "* Running on local URL:  http://127.0.0.1:7870\n",
      "* To create a public link, set `share=True` in `launch()`.\n"
     ]
    },
    {
     "data": {
      "text/html": [
       "<div><iframe src=\"http://127.0.0.1:7870/\" width=\"100%\" height=\"500\" allow=\"autoplay; camera; microphone; clipboard-read; clipboard-write;\" frameborder=\"0\" allowfullscreen></iframe></div>"
      ],
      "text/plain": [
       "<IPython.core.display.HTML object>"
      ]
     },
     "metadata": {},
     "output_type": "display_data"
    },
    {
     "data": {
      "text/plain": []
     },
     "execution_count": 16,
     "metadata": {},
     "output_type": "execute_result"
    }
   ],
   "source": [
    "gr.ChatInterface(fn=chat, type=\"messages\").launch()"
   ]
  },
  {
   "cell_type": "code",
   "execution_count": null,
   "id": "f776c59d-73b6-4b6d-a8c3-652b8fe372f4",
   "metadata": {},
   "outputs": [],
   "source": []
  }
 ],
 "metadata": {
  "kernelspec": {
   "display_name": "Python 3 (ipykernel)",
   "language": "python",
   "name": "python3"
  },
  "language_info": {
   "codemirror_mode": {
    "name": "ipython",
    "version": 3
   },
   "file_extension": ".py",
   "mimetype": "text/x-python",
   "name": "python",
   "nbconvert_exporter": "python",
   "pygments_lexer": "ipython3",
   "version": "3.12.7"
  }
 },
 "nbformat": 4,
 "nbformat_minor": 5
}
